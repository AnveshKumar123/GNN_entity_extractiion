{
 "cells": [
  {
   "cell_type": "code",
   "execution_count": 1,
   "id": "1c950ca9",
   "metadata": {},
   "outputs": [
    {
     "name": "stderr",
     "output_type": "stream",
     "text": [
      "c:\\Users\\ANVESH\\anaconda3\\envs\\pytorch_gpu\\lib\\site-packages\\tqdm\\auto.py:21: TqdmWarning: IProgress not found. Please update jupyter and ipywidgets. See https://ipywidgets.readthedocs.io/en/stable/user_install.html\n",
      "  from .autonotebook import tqdm as notebook_tqdm\n"
     ]
    },
    {
     "name": "stdout",
     "output_type": "stream",
     "text": [
      "{'text': 'steve mcqueen provided a thrilling motorcycle chase in this greatest of all ww 2 prison escape movies', 'label': 'B-Actor,I-Actor,O,O,B-Plot,I-Plot,I-Plot,I-Plot,I-Plot,B-Opinion,I-Opinion,I-Opinion,B-Plot,I-Plot,I-Plot,I-Plot,I-Plot'}\n"
     ]
    }
   ],
   "source": [
    "from datasets import load_dataset\n",
    "\n",
    "# Load the ner_movie dataset\n",
    "dataset = load_dataset(\"ttxy/ner_movie\")\n",
    "\n",
    "# View a sample from the training split\n",
    "print(dataset[\"train\"][0])\n"
   ]
  },
  {
   "cell_type": "code",
   "execution_count": 2,
   "id": "7d195cdb",
   "metadata": {},
   "outputs": [
    {
     "name": "stdout",
     "output_type": "stream",
     "text": [
      "Sample sentence: ['steve', 'mcqueen', 'provided', 'a', 'thrilling', 'motorcycle', 'chase', 'in', 'this', 'greatest', 'of', 'all', 'ww', '2', 'prison', 'escape', 'movies'] 17 7816\n",
      "Sample labels: ['B-Actor', 'I-Actor', 'O', 'O', 'B-Plot', 'I-Plot', 'I-Plot', 'I-Plot', 'I-Plot', 'B-Opinion', 'I-Opinion', 'I-Opinion', 'B-Plot', 'I-Plot', 'I-Plot', 'I-Plot', 'I-Plot'] 17 7816\n"
     ]
    }
   ],
   "source": [
    "train_data = dataset[\"train\"]\n",
    "import re\n",
    "\n",
    "# Prepare sentences and labels\n",
    "texts = [sample['text'] for sample in train_data]\n",
    "sentences_train=[text.split() for text in texts]\n",
    "\n",
    "tags= [sample['label'] for sample in train_data]\n",
    "labels_train= [re.findall(r'\\b[\\w-]+\\b', text) for text in tags]\n",
    "\n",
    "# Print a sample\n",
    "print(\"Sample sentence:\", sentences_train[0],len(sentences_train[0]),len(sentences_train))\n",
    "\n",
    "print(\"Sample labels:\", labels_train[0],len(labels_train[0]),len(labels_train))"
   ]
  },
  {
   "cell_type": "code",
   "execution_count": 3,
   "id": "8979321b",
   "metadata": {},
   "outputs": [
    {
     "name": "stdout",
     "output_type": "stream",
     "text": [
      "25 {'B-Year', 'I-Year', 'I-Soundtrack', 'B-Director', 'B-Opinion', 'I-Plot', 'B-Soundtrack', 'B-Genre', 'I-Origin', 'B-Plot', 'I-Award', 'B-Award', 'B-Actor', 'O', 'I-Opinion', 'I-Actor', 'B-Origin', 'I-Character_Name', 'I-Relationship', 'B-Quote', 'I-Director', 'I-Quote', 'I-Genre', 'B-Relationship', 'B-Character_Name'}\n"
     ]
    }
   ],
   "source": [
    "unique_labels_train = set(label for sublist in labels_train for label in sublist)\n",
    "print(len(unique_labels_train),unique_labels_train)"
   ]
  },
  {
   "cell_type": "code",
   "execution_count": 4,
   "id": "c57b460e",
   "metadata": {},
   "outputs": [
    {
     "name": "stdout",
     "output_type": "stream",
     "text": [
      "25 20\n"
     ]
    }
   ],
   "source": [
    "# GNN for NER using BIO tagging\n",
    "\n",
    "import torch\n",
    "import torch.nn as nn\n",
    "import torch.nn.functional as F\n",
    "from torch_geometric.data import Data, DataLoader\n",
    "from torch_geometric.nn import GCNConv\n",
    "import spacy\n",
    "from transformers import BertTokenizer, BertModel\n",
    "\n",
    "\n",
    "\n",
    "\n",
    "label_to_index = {label: idx for idx, label in enumerate(sorted(unique_labels_train))}\n",
    "index_to_label = {idx: label for label, idx in label_to_index.items()}\n",
    "num_classes = len(label_to_index)\n",
    "print(len(unique_labels_train),label_to_index[\"I-Quote\"])\n",
    "\n"
   ]
  },
  {
   "cell_type": "code",
   "execution_count": 5,
   "id": "ab5e1f07",
   "metadata": {},
   "outputs": [
    {
     "data": {
      "text/plain": [
       "BertModel(\n",
       "  (embeddings): BertEmbeddings(\n",
       "    (word_embeddings): Embedding(30522, 768, padding_idx=0)\n",
       "    (position_embeddings): Embedding(512, 768)\n",
       "    (token_type_embeddings): Embedding(2, 768)\n",
       "    (LayerNorm): LayerNorm((768,), eps=1e-12, elementwise_affine=True)\n",
       "    (dropout): Dropout(p=0.1, inplace=False)\n",
       "  )\n",
       "  (encoder): BertEncoder(\n",
       "    (layer): ModuleList(\n",
       "      (0-11): 12 x BertLayer(\n",
       "        (attention): BertAttention(\n",
       "          (self): BertSdpaSelfAttention(\n",
       "            (query): Linear(in_features=768, out_features=768, bias=True)\n",
       "            (key): Linear(in_features=768, out_features=768, bias=True)\n",
       "            (value): Linear(in_features=768, out_features=768, bias=True)\n",
       "            (dropout): Dropout(p=0.1, inplace=False)\n",
       "          )\n",
       "          (output): BertSelfOutput(\n",
       "            (dense): Linear(in_features=768, out_features=768, bias=True)\n",
       "            (LayerNorm): LayerNorm((768,), eps=1e-12, elementwise_affine=True)\n",
       "            (dropout): Dropout(p=0.1, inplace=False)\n",
       "          )\n",
       "        )\n",
       "        (intermediate): BertIntermediate(\n",
       "          (dense): Linear(in_features=768, out_features=3072, bias=True)\n",
       "          (intermediate_act_fn): GELUActivation()\n",
       "        )\n",
       "        (output): BertOutput(\n",
       "          (dense): Linear(in_features=3072, out_features=768, bias=True)\n",
       "          (LayerNorm): LayerNorm((768,), eps=1e-12, elementwise_affine=True)\n",
       "          (dropout): Dropout(p=0.1, inplace=False)\n",
       "        )\n",
       "      )\n",
       "    )\n",
       "  )\n",
       "  (pooler): BertPooler(\n",
       "    (dense): Linear(in_features=768, out_features=768, bias=True)\n",
       "    (activation): Tanh()\n",
       "  )\n",
       ")"
      ]
     },
     "execution_count": 5,
     "metadata": {},
     "output_type": "execute_result"
    }
   ],
   "source": [
    "import torch\n",
    "import torch.nn as nn\n",
    "import torch.nn.functional as F\n",
    "from torch_geometric.data import Data, DataLoader\n",
    "from torch_geometric.nn import GCNConv\n",
    "import spacy\n",
    "from transformers import BertTokenizer, BertModel\n",
    "\n",
    "\n",
    "nlp=spacy.load(\"en_core_web_sm\")\n",
    "tokenizer = BertTokenizer.from_pretrained('bert-base-uncased')\n",
    "bert_model = BertModel.from_pretrained('bert-base-uncased')\n",
    "bert_model.eval()\n",
    "\n"
   ]
  },
  {
   "cell_type": "code",
   "execution_count": 6,
   "id": "39acef50",
   "metadata": {},
   "outputs": [],
   "source": [
    "from collections import defaultdict\n",
    "\n",
    "def make_unique_tokens(tokens):\n",
    "    word_counts = defaultdict(int)\n",
    "    unique_tokens = []\n",
    "    for word in tokens:\n",
    "        word_counts[word] += 1\n",
    "        unique_tokens.append(f\"{word}_{word_counts[word]}\")\n",
    "    return unique_tokens"
   ]
  },
  {
   "cell_type": "code",
   "execution_count": 7,
   "id": "8dcb210c",
   "metadata": {},
   "outputs": [],
   "source": [
    "def build_graph_from_spacy(unique_sentence):\n",
    "    doc = nlp(unique_sentence)\n",
    "    edge_index = [[], []]\n",
    "    for token in doc:\n",
    "        if token.head != token:\n",
    "            edge_index[0].append(token.i)\n",
    "            edge_index[1].append(token.head.i)\n",
    "            edge_index[0].append(token.head.i)\n",
    "            edge_index[1].append(token.i)\n",
    "    return doc, edge_index\n"
   ]
  },
  {
   "cell_type": "code",
   "execution_count": 8,
   "id": "a25e3f03",
   "metadata": {},
   "outputs": [],
   "source": [
    "def extract_bert_embeddings(original_tokens):\n",
    "    inputs = tokenizer(original_tokens, return_tensors='pt', is_split_into_words=True, padding=True, truncation=True)\n",
    "    with torch.no_grad():\n",
    "        outputs = bert_model(**inputs)\n",
    "    embeddings = outputs.last_hidden_state[0]  # shape: [num_tokens, 768]\n",
    "\n",
    "    # Filter out special tokens and subwords\n",
    "    x_clean = []\n",
    "    for idx, token in enumerate(tokenizer.convert_ids_to_tokens(inputs['input_ids'][0])):\n",
    "        if token in ['[CLS]', '[SEP]'] or token.startswith('##'):\n",
    "            continue\n",
    "        x_clean.append(embeddings[idx])\n",
    "    return torch.stack(x_clean)  # shape: [num_original_tokens, 768]\n"
   ]
  },
  {
   "cell_type": "markdown",
   "id": "c3975202",
   "metadata": {},
   "source": [
    "## dataset prep"
   ]
  },
  {
   "cell_type": "code",
   "execution_count": 10,
   "id": "019e0292",
   "metadata": {},
   "outputs": [],
   "source": [
    "from collections import defaultdict\n",
    "import torch\n",
    "from torch_geometric.data import Data\n",
    "\n",
    "def process_sentence(tokens, labels):\n",
    "    # Step 1: Run SpaCy on original sentence\n",
    "    sentence = ' '.join(tokens)\n",
    "    doc = nlp(sentence)\n",
    "\n",
    "    # Step 2: Create unique names for graph nodes (renamed_tokens)\n",
    "    word_counts = defaultdict(int)\n",
    "    renamed_tokens = []\n",
    "    for tok in tokens:\n",
    "        word_counts[tok] += 1\n",
    "        renamed_tokens.append(f\"{tok}_{word_counts[tok]}\")\n",
    "\n",
    "    # Step 3: Build mapping from SpaCy token index to renamed token\n",
    "    idx_to_node = {i: renamed_tokens[i] for i in range(len(tokens))}\n",
    "\n",
    "    # Step 4: Create edge list using SpaCy dependencies\n",
    "    edge_index = [[], []]\n",
    "    for token in doc:\n",
    "        if token.i < len(tokens) and token.head.i < len(tokens) and token.i != token.head.i:\n",
    "            edge_index[0].append(token.i)\n",
    "            edge_index[1].append(token.head.i)\n",
    "            edge_index[0].append(token.head.i)\n",
    "            edge_index[1].append(token.i)\n",
    "\n",
    "    num_nodes = len(tokens)\n",
    "\n",
    "    # Step 5: Get BERT embeddings for original tokens\n",
    "    inputs = tokenizer(tokens, return_tensors='pt', is_split_into_words=True, padding=True, truncation=True)\n",
    "    with torch.no_grad():\n",
    "        outputs = bert_model(**inputs)\n",
    "    embeddings = outputs.last_hidden_state[0]  # shape: [seq_len, hidden_size]\n",
    "    tokenized_ids = tokenizer.convert_ids_to_tokens(inputs['input_ids'][0])\n",
    "\n",
    "    # Step 6: Filter BERT tokens ([CLS], [SEP], and subwords)\n",
    "    x_clean = []\n",
    "    idx = 0\n",
    "    for tok in tokenized_ids:\n",
    "        if tok in ['[CLS]', '[SEP]']:\n",
    "            idx += 1\n",
    "            continue\n",
    "        if tok.startswith('##'):\n",
    "            idx += 1\n",
    "            continue\n",
    "        x_clean.append(embeddings[idx])\n",
    "        idx += 1\n",
    "\n",
    "    x_clean = torch.stack(x_clean)  # shape: [num_tokens, 768]\n",
    "    y = torch.tensor([label_to_index[label] for label in labels], dtype=torch.long)\n",
    "\n",
    "    # Step 7: Add self-loops if no edges, and as general enhancement\n",
    "    if not edge_index[0]:\n",
    "        edge_index = [list(range(num_nodes)), list(range(num_nodes))]\n",
    "    edge_index = torch.tensor(edge_index, dtype=torch.long)\n",
    "    self_loops = torch.arange(num_nodes).unsqueeze(0).repeat(2, 1)\n",
    "    edge_index = torch.cat([edge_index, self_loops], dim=1)\n",
    "\n",
    "    # Step 8: Final sanity checks\n",
    "    assert x_clean.shape[0] == num_nodes, f\"Mismatch: {x_clean.shape[0]} embeddings but {num_nodes} nodes\"\n",
    "    assert len(y) == num_nodes, f\"Mismatch: {len(y)} labels but {num_nodes} nodes\"\n",
    "\n",
    "    return Data(x=x_clean, edge_index=edge_index, y=y)\n"
   ]
  },
  {
   "cell_type": "code",
   "execution_count": 12,
   "id": "e76a20e1",
   "metadata": {},
   "outputs": [
    {
     "name": "stdout",
     "output_type": "stream",
     "text": [
      "tensor([[ 0.3520,  0.0706, -0.2636,  ..., -0.1070,  0.3135, -0.3130],\n",
      "        [ 0.9976, -0.0293, -0.3141,  ..., -0.4966,  0.8210,  0.1055],\n",
      "        [-0.0314,  0.1850, -0.3448,  ...,  0.1373,  0.2307, -0.1180],\n",
      "        ...,\n",
      "        [ 0.1413, -0.5032,  0.0902,  ...,  0.5102, -0.4605, -0.0506],\n",
      "        [ 0.5626, -0.1377,  0.0810,  ...,  0.5915,  0.1355,  0.0766],\n",
      "        [ 0.0831,  0.1443, -0.7835,  ...,  0.4704,  0.2926,  0.1960]]) ['B-Actor', 'I-Actor', 'O', 'O', 'B-Plot', 'I-Plot', 'I-Plot', 'I-Plot', 'I-Plot', 'B-Opinion', 'I-Opinion', 'I-Opinion', 'B-Plot', 'I-Plot', 'I-Plot', 'I-Plot', 'I-Plot']\n"
     ]
    }
   ],
   "source": [
    "graph_data_list = [process_sentence(tokens, label_seq) for tokens, label_seq in zip(sentences_train, labels_train)]\n",
    "ls=[index_to_label[int(x)] for x in graph_data_list[0].y]\n",
    "print(graph_data_list[0].x,ls)"
   ]
  },
  {
   "cell_type": "code",
   "execution_count": 13,
   "id": "1e2125a8",
   "metadata": {},
   "outputs": [
    {
     "name": "stdout",
     "output_type": "stream",
     "text": [
      "Training graphs: 6252 | Testing graphs: 1564\n"
     ]
    }
   ],
   "source": [
    "from sklearn.model_selection import train_test_split\n",
    "\n",
    "train_graphs, test_graphs = train_test_split(graph_data_list, test_size=0.2, random_state=42)\n",
    "print(f\"Training graphs: {len(train_graphs)} | Testing graphs: {len(test_graphs)}\")\n"
   ]
  },
  {
   "cell_type": "markdown",
   "id": "5022c66e",
   "metadata": {},
   "source": [
    "## dataset loading"
   ]
  },
  {
   "cell_type": "code",
   "execution_count": 14,
   "id": "122f70f0",
   "metadata": {},
   "outputs": [],
   "source": [
    "from torch_geometric.loader import DataLoader\n",
    "\n",
    "train_loader = DataLoader(train_graphs, batch_size=1, shuffle=True)\n",
    "test_loader = DataLoader(test_graphs, batch_size=1, shuffle=False)\n"
   ]
  },
  {
   "cell_type": "markdown",
   "id": "77016f56",
   "metadata": {},
   "source": [
    "## model and training"
   ]
  },
  {
   "cell_type": "code",
   "execution_count": 18,
   "id": "68979fbd",
   "metadata": {},
   "outputs": [],
   "source": [
    "import torch\n",
    "import torch.nn as nn\n",
    "import torch.nn.functional as F\n",
    "from torch_geometric.nn import GCNConv\n",
    "\n",
    "class GCNTagger(nn.Module):\n",
    "    def __init__(self, in_dim, hidden_dim, num_classes):\n",
    "        super(GCNTagger, self).__init__()\n",
    "        self.gcn1 = GCNConv(in_dim, hidden_dim)\n",
    "        self.gcn2 = GCNConv(hidden_dim, hidden_dim)\n",
    "        self.classifier = nn.Linear(hidden_dim, num_classes)\n",
    "\n",
    "    def forward(self, data):\n",
    "        x, edge_index = data.x, data.edge_index\n",
    "        x = F.relu(self.gcn1(x, edge_index))\n",
    "        x = F.dropout(x, p=0.3, training=self.training)\n",
    "        x = self.gcn2(x, edge_index)\n",
    "        logits = self.classifier(x)  # [num_nodes, num_classes]\n",
    "        return logits\n",
    "\n"
   ]
  },
  {
   "cell_type": "code",
   "execution_count": 19,
   "id": "11d34e78",
   "metadata": {},
   "outputs": [],
   "source": [
    "def train(model, dataloader, optimizer, loss_fn):\n",
    "    model.train()\n",
    "    total_loss = 0\n",
    "    for batch in dataloader:\n",
    "        optimizer.zero_grad()\n",
    "        out = model(batch)            # [num_nodes, num_classes]\n",
    "        loss = loss_fn(out, batch.y)  # [num_nodes]\n",
    "        loss.backward()\n",
    "        optimizer.step()\n",
    "        total_loss += loss.item()\n",
    "    return total_loss / len(dataloader)\n",
    "\n",
    "\n",
    "def evaluate(model, dataloader):\n",
    "    model.eval()\n",
    "    correct = 0\n",
    "    total = 0\n",
    "    with torch.no_grad():\n",
    "        for batch in dataloader:\n",
    "            out = model(batch)\n",
    "            pred = out.argmax(dim=1)\n",
    "            correct += (pred == batch.y).sum().item()\n",
    "            total += batch.y.size(0)\n",
    "    return correct / total if total > 0 else 0.0\n"
   ]
  },
  {
   "cell_type": "code",
   "execution_count": 20,
   "id": "b9b55624",
   "metadata": {},
   "outputs": [
    {
     "name": "stdout",
     "output_type": "stream",
     "text": [
      "Epoch 01 | Train Loss: 0.7136 | Test Accuracy: 0.7988\n",
      "Epoch 02 | Train Loss: 0.5954 | Test Accuracy: 0.8236\n",
      "Epoch 03 | Train Loss: 0.5488 | Test Accuracy: 0.8135\n",
      "Epoch 04 | Train Loss: 0.5197 | Test Accuracy: 0.8250\n",
      "Epoch 05 | Train Loss: 0.4966 | Test Accuracy: 0.8082\n",
      "Epoch 06 | Train Loss: 0.4769 | Test Accuracy: 0.8279\n",
      "Epoch 07 | Train Loss: 0.4620 | Test Accuracy: 0.8246\n",
      "Epoch 08 | Train Loss: 0.4416 | Test Accuracy: 0.8276\n",
      "Epoch 09 | Train Loss: 0.4277 | Test Accuracy: 0.8229\n",
      "Epoch 10 | Train Loss: 0.4124 | Test Accuracy: 0.8252\n",
      "Epoch 11 | Train Loss: 0.4015 | Test Accuracy: 0.8256\n",
      "Epoch 12 | Train Loss: 0.3935 | Test Accuracy: 0.8294\n",
      "Epoch 13 | Train Loss: 0.3846 | Test Accuracy: 0.8280\n",
      "Epoch 14 | Train Loss: 0.3725 | Test Accuracy: 0.8245\n",
      "Epoch 15 | Train Loss: 0.3666 | Test Accuracy: 0.8289\n",
      "Epoch 16 | Train Loss: 0.3576 | Test Accuracy: 0.8221\n",
      "Epoch 17 | Train Loss: 0.3503 | Test Accuracy: 0.8254\n",
      "Epoch 18 | Train Loss: 0.3445 | Test Accuracy: 0.8313\n",
      "Epoch 19 | Train Loss: 0.3369 | Test Accuracy: 0.8283\n",
      "Epoch 20 | Train Loss: 0.3323 | Test Accuracy: 0.8250\n",
      "Epoch 21 | Train Loss: 0.3269 | Test Accuracy: 0.8234\n",
      "Epoch 22 | Train Loss: 0.3222 | Test Accuracy: 0.8314\n",
      "Epoch 23 | Train Loss: 0.3161 | Test Accuracy: 0.8305\n",
      "Epoch 24 | Train Loss: 0.3149 | Test Accuracy: 0.8307\n",
      "Epoch 25 | Train Loss: 0.3073 | Test Accuracy: 0.8281\n",
      "Epoch 26 | Train Loss: 0.3050 | Test Accuracy: 0.8303\n",
      "Epoch 27 | Train Loss: 0.3025 | Test Accuracy: 0.8306\n",
      "Epoch 28 | Train Loss: 0.2985 | Test Accuracy: 0.8306\n",
      "Epoch 29 | Train Loss: 0.2947 | Test Accuracy: 0.8255\n",
      "Epoch 30 | Train Loss: 0.2917 | Test Accuracy: 0.8314\n"
     ]
    }
   ],
   "source": [
    "in_channels = 768\n",
    "hidden_channels = 128\n",
    "num_classes = len(label_to_index)\n",
    "\n",
    "model = GCNTagger(in_channels, hidden_channels, num_classes)\n",
    "optimizer = torch.optim.Adam(model.parameters(), lr=0.001)\n",
    "loss_fn = torch.nn.CrossEntropyLoss()\n",
    "\n",
    "for epoch in range(1, 31):  # 10 epochs\n",
    "    train_loss = train(model, train_loader, optimizer, loss_fn)\n",
    "    test_acc = evaluate(model, test_loader)\n",
    "    print(f\"Epoch {epoch:02d} | Train Loss: {train_loss:.4f} | Test Accuracy: {test_acc:.4f}\")\n"
   ]
  },
  {
   "cell_type": "code",
   "execution_count": 26,
   "id": "4d8109a1",
   "metadata": {},
   "outputs": [
    {
     "name": "stdout",
     "output_type": "stream",
     "text": [
      "Predicted labels: ['O', 'O', 'B-Year', 'O', 'O', 'B-Plot', 'B-Plot', 'O', 'O', 'I-Plot', 'I-Plot', 'I-Plot', 'I-Origin', 'I-Origin', 'I-Origin', 'I-Origin']\n",
      "True labels: ['O', 'O', 'B-Year', 'O', 'O', 'O', 'B-Plot', 'I-Plot', 'I-Plot', 'I-Plot', 'I-Plot', 'O', 'O', 'B-Origin', 'I-Origin', 'I-Origin']\n",
      "\n",
      "\n",
      "Predicted labels: ['B-Actor', 'I-Actor', 'I-Award', 'B-Award', 'B-Award', 'O', 'O', 'O', 'O', 'O', 'B-Year', 'B-Director', 'I-Director', 'B-Director', 'B-Genre']\n",
      "True labels: ['B-Actor', 'I-Actor', 'O', 'O', 'B-Award', 'O', 'O', 'O', 'O', 'O', 'B-Year', 'B-Director', 'I-Director', 'I-Director', 'B-Genre']\n",
      "\n",
      "\n",
      "Predicted labels: ['O', 'O', 'O', 'O', 'O', 'O', 'O', 'B-Actor', 'I-Actor', 'O', 'I-Plot', 'I-Plot', 'I-Plot', 'I-Plot', 'I-Plot', 'I-Plot', 'I-Plot', 'I-Plot', 'I-Plot', 'B-Plot', 'I-Plot', 'I-Plot', 'I-Plot', 'I-Plot', 'I-Plot', 'I-Plot']\n",
      "True labels: ['O', 'O', 'O', 'O', 'O', 'O', 'O', 'B-Actor', 'I-Actor', 'O', 'O', 'B-Plot', 'I-Plot', 'I-Plot', 'I-Plot', 'I-Plot', 'I-Plot', 'I-Plot', 'I-Plot', 'I-Plot', 'I-Plot', 'I-Plot', 'I-Plot', 'I-Plot', 'I-Plot', 'I-Plot']\n",
      "\n",
      "\n",
      "Predicted labels: ['O', 'B-Year', 'B-Genre', 'O', 'O', 'O', 'I-Relationship', 'O', 'I-Relationship', 'B-Director', 'I-Director', 'I-Relationship', 'O', 'O', 'O', 'O']\n",
      "True labels: ['O', 'B-Year', 'B-Genre', 'O', 'O', 'B-Relationship', 'B-Origin', 'I-Origin', 'I-Origin', 'B-Director', 'I-Director', 'B-Origin', 'I-Origin', 'I-Origin', 'I-Origin', 'I-Origin']\n",
      "\n",
      "\n"
     ]
    }
   ],
   "source": [
    "model.eval()\n",
    "i=0\n",
    "with torch.no_grad():\n",
    "    for batch in test_loader:\n",
    "        out = model(batch)\n",
    "        pred = out.argmax(dim=1)\n",
    "        print(\"Predicted labels:\", [index_to_label[int(i)] for i in pred])\n",
    "        print(\"True labels:\", [index_to_label[int(i)] for i in batch.y])\n",
    "        print('\\n')\n",
    "        if(i>2):\n",
    "            break\n",
    "        i+=1\n"
   ]
  },
  {
   "cell_type": "code",
   "execution_count": 31,
   "id": "99aeb16c",
   "metadata": {},
   "outputs": [
    {
     "name": "stdout",
     "output_type": "stream",
     "text": [
      "Requirement already satisfied: pytorch-crf in c:\\users\\anvesh\\anaconda3\\envs\\pytorch_gpu\\lib\\site-packages (0.7.2)\n",
      "Note: you may need to restart the kernel to use updated packages.\n"
     ]
    }
   ],
   "source": [
    "pip install pytorch-crf"
   ]
  },
  {
   "cell_type": "markdown",
   "id": "d7e6a30e",
   "metadata": {},
   "source": [
    "## new model using torch crf"
   ]
  },
  {
   "cell_type": "code",
   "execution_count": 36,
   "id": "d892494b",
   "metadata": {},
   "outputs": [
    {
     "ename": "SyntaxError",
     "evalue": "invalid syntax (949834233.py, line 2)",
     "output_type": "error",
     "traceback": [
      "\u001b[1;36m  Cell \u001b[1;32mIn[36], line 2\u001b[1;36m\u001b[0m\n\u001b[1;33m    import pytorch-crf\u001b[0m\n\u001b[1;37m                  ^\u001b[0m\n\u001b[1;31mSyntaxError\u001b[0m\u001b[1;31m:\u001b[0m invalid syntax\n"
     ]
    }
   ],
   "source": [
    "from torch_geometric.nn import GCNConv\n",
    "import pytorch-crf\n",
    "import torch.nn as nn\n",
    "import torch\n",
    "\n",
    "class GCN_CRF(nn.Module):\n",
    "    def __init__(self, in_channels, hidden_channels, num_labels):\n",
    "        super().__init__()\n",
    "        self.gcn1 = GCNConv(in_channels, hidden_channels)\n",
    "        self.relu = nn.ReLU()\n",
    "        self.gcn2 = GCNConv(hidden_channels, num_labels)\n",
    "        self.crf = CRF(num_labels, batch_first=True)  # batch_first=True expects [B, T, C]\n",
    "\n",
    "    def forward(self, data):\n",
    "        x, edge_index = data.x, data.edge_index\n",
    "        x = self.relu(self.gcn1(x, edge_index))\n",
    "        logits = self.gcn2(x, edge_index)  # [num_nodes, num_labels]\n",
    "\n",
    "        return logits\n",
    "\n",
    "    def decode(self, logits, mask):\n",
    "        return self.crf.decode(logits.unsqueeze(0), mask.unsqueeze(0))[0]\n",
    "    \n",
    "    def compute_loss(self, logits, labels, mask):\n",
    "        return -self.crf(logits.unsqueeze(0), labels.unsqueeze(0), mask=mask.unsqueeze(0), reduction='mean')\n"
   ]
  },
  {
   "cell_type": "code",
   "execution_count": null,
   "id": "7e44eeb9",
   "metadata": {},
   "outputs": [],
   "source": [
    "def train(model, dataloader, optimizer):\n",
    "    model.train()\n",
    "    total_loss = 0\n",
    "    for batch in dataloader:\n",
    "        optimizer.zero_grad()\n",
    "        logits = model(batch)  # [num_nodes, num_classes]\n",
    "        mask = torch.ones_like(batch.y, dtype=torch.bool)\n",
    "        loss = model.compute_loss(logits, batch.y, mask)\n",
    "        loss.backward()\n",
    "        optimizer.step()\n",
    "        total_loss += loss.item()\n",
    "    return total_loss / len(dataloader)\n",
    "\n",
    "\n",
    "def evaluate(model, dataloader):\n",
    "    model.eval()\n",
    "    correct = 0\n",
    "    total = 0\n",
    "    with torch.no_grad():\n",
    "        for batch in dataloader:\n",
    "            logits = model(batch)\n",
    "            mask = torch.ones_like(batch.y, dtype=torch.bool)\n",
    "            pred = model.decode(logits, mask)\n",
    "            correct += (torch.tensor(pred) == batch.y).sum().item()\n",
    "            total += batch.y.size(0)\n",
    "    return correct / total if total > 0 else 0.0\n"
   ]
  },
  {
   "cell_type": "code",
   "execution_count": null,
   "id": "56656d04",
   "metadata": {},
   "outputs": [],
   "source": [
    "in_channels = 768\n",
    "hidden_channels = 128\n",
    "num_classes = len(label_to_index)\n",
    "\n",
    "model2 = GCN_CRF(in_channels, hidden_channels, num_classes)\n",
    "optimizer = torch.optim.Adam(model2.parameters(), lr=1e-3)\n",
    "\n",
    "for epoch in range(1, 11):\n",
    "    loss = train(model2, train_loader, optimizer)\n",
    "    acc = evaluate(model2, test_loader)\n",
    "    print(f\"Epoch {epoch:02d} | Loss: {loss:.4f} | Test Accuracy: {acc:.4f}\")\n"
   ]
  },
  {
   "cell_type": "markdown",
   "id": "b2296c64",
   "metadata": {},
   "source": [
    "## text to graph visualisation"
   ]
  },
  {
   "cell_type": "code",
   "execution_count": 27,
   "id": "c249f4c6",
   "metadata": {},
   "outputs": [
    {
     "name": "stdout",
     "output_type": "stream",
     "text": [
      "Token: The          | Index (token.i): 0 | Head: dog | Dep: det\n",
      "Token: dog          | Index (token.i): 1 | Head: saw | Dep: nsubj\n",
      "Token: saw          | Index (token.i): 2 | Head: saw | Dep: ROOT\n",
      "Token: the          | Index (token.i): 3 | Head: man | Dep: det\n",
      "Token: man          | Index (token.i): 4 | Head: saw | Dep: dobj\n",
      "Token: with         | Index (token.i): 5 | Head: saw | Dep: prep\n",
      "Token: a            | Index (token.i): 6 | Head: telescope | Dep: det\n",
      "Token: saw          | Index (token.i): 7 | Head: telescope | Dep: amod\n",
      "Token: telescope    | Index (token.i): 8 | Head: with | Dep: pobj\n"
     ]
    }
   ],
   "source": [
    "import spacy\n",
    "\n",
    "nlp = spacy.load(\"en_core_web_sm\")\n",
    "\n",
    "text = \"The dog saw the man with a saw telescope\"\n",
    "doc = nlp(text)\n",
    "\n",
    "for token in doc:\n",
    "    print(f\"Token: {token.text:12} | Index (token.i): {token.i} | Head: {token.head.text} | Dep: {token.dep_}\")\n"
   ]
  },
  {
   "cell_type": "code",
   "execution_count": 37,
   "id": "e22d75fd",
   "metadata": {},
   "outputs": [
    {
     "data": {
      "image/png": "[encoded data removed]",
      "text/plain": [
       "<Figure size 1400x1400 with 1 Axes>"
      ]
     },
     "metadata": {},
     "output_type": "display_data"
    }
   ],
   "source": [
    "import spacy\n",
    "import networkx as nx\n",
    "import matplotlib.pyplot as plt\n",
    "\n",
    "# Load SpaCy model\n",
    "nlp = spacy.load(\"en_core_web_sm\")\n",
    "\n",
    "# Sample sentence\n",
    "sentence = \"The gnn (graph neural network) is a powerful model for NER (named entity recognition).it identifies social network and graphs it to model\"\n",
    "sentence = re.sub(r'[^a-zA-Z0-9\\s\\']', '', sentence)\n",
    "doc = nlp(sentence)\n",
    "\n",
    "# Initialize graph\n",
    "G = nx.DiGraph()\n",
    "\n",
    "# Add nodes with unique names using token text + index\n",
    "for token in doc:\n",
    "    G.add_node(token.i, label=f\"{token.text}\")\n",
    "\n",
    "# Add bidirectional edges based on dependency parse\n",
    "for token in doc:\n",
    "    if token.head != token:\n",
    "        G.add_edge(token.i, token.head.i)       # child → head\n",
    "        G.add_edge(token.head.i, token.i)       # head → child (optional)\n",
    "\n",
    "# Visualization\n",
    "pos = nx.spring_layout(G)\n",
    "labels = nx.get_node_attributes(G, 'label')\n",
    "\n",
    "plt.figure(figsize=(14, 14))\n",
    "nx.draw(G, pos, labels=labels, with_labels=True, node_color='lightblue', edge_color='gray', node_size=3000, font_size=10)\n",
    "plt.title(\"Dependency Graph with Unique Nodes (token_text + index)\")\n",
    "plt.show()\n"
   ]
  },
  {
   "cell_type": "markdown",
   "id": "11ec908a",
   "metadata": {},
   "source": [
    "# $$$$$$$$$ CODE OVER $$$$$$$$$$"
   ]
  }
 ],
 "metadata": {
  "kernelspec": {
   "display_name": "pytorch_gpu",
   "language": "python",
   "name": "python3"
  },
  "language_info": {
   "codemirror_mode": {
    "name": "ipython",
    "version": 3
   },
   "file_extension": ".py",
   "mimetype": "text/x-python",
   "name": "python",
   "nbconvert_exporter": "python",
   "pygments_lexer": "ipython3",
   "version": "3.10.16"
  }
 },
 "nbformat": 4,
 "nbformat_minor": 5
}
